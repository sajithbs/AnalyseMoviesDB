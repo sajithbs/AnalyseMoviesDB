{
    "cells": [
        {
            "cell_type": "code",
            "execution_count": 7,
            "metadata": {},
            "outputs": [],
            "source": "#Import Libraries\nimport pandas as pd"
        },
        {
            "cell_type": "code",
            "execution_count": 8,
            "metadata": {},
            "outputs": [],
            "source": "# The code was removed by Watson Studio for sharing."
        },
        {
            "cell_type": "code",
            "execution_count": 11,
            "metadata": {},
            "outputs": [],
            "source": "#2.\tDownload the file into IBM Cloud Object Storage\nfrom ibm_botocore.client import Config\nimport ibm_boto3\n\ncos = ibm_boto3.client(service_name='s3',\n    ibm_api_key_id=credentials_1['IBM_API_KEY_ID'],\n    ibm_service_instance_id=credentials_1['IAM_SERVICE_ID'],\n    ibm_auth_endpoint=credentials_1['IBM_AUTH_ENDPOINT'],\n    config=Config(signature_version='oauth'),\n    endpoint_url=credentials_1['ENDPOINT'])"
        },
        {
            "cell_type": "code",
            "execution_count": 12,
            "metadata": {},
            "outputs": [],
            "source": "#3 Import Last step\ncos.download_file(Bucket=credentials_1['BUCKET'],Key='movies.xls',Filename='movies.xls')"
        },
        {
            "cell_type": "code",
            "execution_count": 13,
            "metadata": {},
            "outputs": [],
            "source": "# Create data frame\nexcel_file = 'movies.xls'\nmovies = pd.read_excel(excel_file)"
        },
        {
            "cell_type": "code",
            "execution_count": 14,
            "metadata": {},
            "outputs": [
                {
                    "data": {
                        "text/html": "<div>\n<style scoped>\n    .dataframe tbody tr th:only-of-type {\n        vertical-align: middle;\n    }\n\n    .dataframe tbody tr th {\n        vertical-align: top;\n    }\n\n    .dataframe thead th {\n        text-align: right;\n    }\n</style>\n<table border=\"1\" class=\"dataframe\">\n  <thead>\n    <tr style=\"text-align: right;\">\n      <th></th>\n      <th>Title</th>\n      <th>Year</th>\n      <th>Genres</th>\n      <th>Language</th>\n      <th>Country</th>\n      <th>Content Rating</th>\n      <th>Duration</th>\n      <th>Aspect Ratio</th>\n      <th>Budget</th>\n      <th>Gross Earnings</th>\n      <th>...</th>\n      <th>Facebook Likes - Actor 1</th>\n      <th>Facebook Likes - Actor 2</th>\n      <th>Facebook Likes - Actor 3</th>\n      <th>Facebook Likes - cast Total</th>\n      <th>Facebook likes - Movie</th>\n      <th>Facenumber in posters</th>\n      <th>User Votes</th>\n      <th>Reviews by Users</th>\n      <th>Reviews by Crtiics</th>\n      <th>IMDB Score</th>\n    </tr>\n  </thead>\n  <tbody>\n    <tr>\n      <th>0</th>\n      <td>Intolerance: Love's Struggle Throughout the Ages</td>\n      <td>1916</td>\n      <td>Drama|History|War</td>\n      <td>NaN</td>\n      <td>USA</td>\n      <td>Not Rated</td>\n      <td>123</td>\n      <td>1.33</td>\n      <td>385907.0</td>\n      <td>NaN</td>\n      <td>...</td>\n      <td>436</td>\n      <td>22</td>\n      <td>9.0</td>\n      <td>481</td>\n      <td>691</td>\n      <td>1</td>\n      <td>10718</td>\n      <td>88</td>\n      <td>69.0</td>\n      <td>8.0</td>\n    </tr>\n    <tr>\n      <th>1</th>\n      <td>Over the Hill to the Poorhouse</td>\n      <td>1920</td>\n      <td>Crime|Drama</td>\n      <td>NaN</td>\n      <td>USA</td>\n      <td>NaN</td>\n      <td>110</td>\n      <td>1.33</td>\n      <td>100000.0</td>\n      <td>3000000.0</td>\n      <td>...</td>\n      <td>2</td>\n      <td>2</td>\n      <td>0.0</td>\n      <td>4</td>\n      <td>0</td>\n      <td>1</td>\n      <td>5</td>\n      <td>1</td>\n      <td>1.0</td>\n      <td>4.8</td>\n    </tr>\n    <tr>\n      <th>2</th>\n      <td>The Big Parade</td>\n      <td>1925</td>\n      <td>Drama|Romance|War</td>\n      <td>NaN</td>\n      <td>USA</td>\n      <td>Not Rated</td>\n      <td>151</td>\n      <td>1.33</td>\n      <td>245000.0</td>\n      <td>NaN</td>\n      <td>...</td>\n      <td>81</td>\n      <td>12</td>\n      <td>6.0</td>\n      <td>108</td>\n      <td>226</td>\n      <td>0</td>\n      <td>4849</td>\n      <td>45</td>\n      <td>48.0</td>\n      <td>8.3</td>\n    </tr>\n    <tr>\n      <th>3</th>\n      <td>Metropolis</td>\n      <td>1927</td>\n      <td>Drama|Sci-Fi</td>\n      <td>German</td>\n      <td>Germany</td>\n      <td>Not Rated</td>\n      <td>145</td>\n      <td>1.33</td>\n      <td>6000000.0</td>\n      <td>26435.0</td>\n      <td>...</td>\n      <td>136</td>\n      <td>23</td>\n      <td>18.0</td>\n      <td>203</td>\n      <td>12000</td>\n      <td>1</td>\n      <td>111841</td>\n      <td>413</td>\n      <td>260.0</td>\n      <td>8.3</td>\n    </tr>\n    <tr>\n      <th>4</th>\n      <td>Pandora's Box</td>\n      <td>1929</td>\n      <td>Crime|Drama|Romance</td>\n      <td>German</td>\n      <td>Germany</td>\n      <td>Not Rated</td>\n      <td>110</td>\n      <td>1.33</td>\n      <td>NaN</td>\n      <td>9950.0</td>\n      <td>...</td>\n      <td>426</td>\n      <td>20</td>\n      <td>3.0</td>\n      <td>455</td>\n      <td>926</td>\n      <td>1</td>\n      <td>7431</td>\n      <td>84</td>\n      <td>71.0</td>\n      <td>8.0</td>\n    </tr>\n  </tbody>\n</table>\n<p>5 rows \u00d7 25 columns</p>\n</div>",
                        "text/plain": "                                               Title  Year  \\\n0  Intolerance: Love's Struggle Throughout the Ages\u00a0  1916   \n1                    Over the Hill to the Poorhouse\u00a0  1920   \n2                                    The Big Parade\u00a0  1925   \n3                                        Metropolis\u00a0  1927   \n4                                     Pandora's Box\u00a0  1929   \n\n                Genres Language  Country Content Rating  Duration  \\\n0    Drama|History|War      NaN      USA      Not Rated       123   \n1          Crime|Drama      NaN      USA            NaN       110   \n2    Drama|Romance|War      NaN      USA      Not Rated       151   \n3         Drama|Sci-Fi   German  Germany      Not Rated       145   \n4  Crime|Drama|Romance   German  Germany      Not Rated       110   \n\n   Aspect Ratio     Budget  Gross Earnings  ... Facebook Likes - Actor 1  \\\n0          1.33   385907.0             NaN  ...                      436   \n1          1.33   100000.0       3000000.0  ...                        2   \n2          1.33   245000.0             NaN  ...                       81   \n3          1.33  6000000.0         26435.0  ...                      136   \n4          1.33        NaN          9950.0  ...                      426   \n\n  Facebook Likes - Actor 2 Facebook Likes - Actor 3  \\\n0                       22                      9.0   \n1                        2                      0.0   \n2                       12                      6.0   \n3                       23                     18.0   \n4                       20                      3.0   \n\n  Facebook Likes - cast Total  Facebook likes - Movie  Facenumber in posters  \\\n0                         481                     691                      1   \n1                           4                       0                      1   \n2                         108                     226                      0   \n3                         203                   12000                      1   \n4                         455                     926                      1   \n\n   User Votes  Reviews by Users  Reviews by Crtiics  IMDB Score  \n0       10718                88                69.0         8.0  \n1           5                 1                 1.0         4.8  \n2        4849                45                48.0         8.3  \n3      111841               413               260.0         8.3  \n4        7431                84                71.0         8.0  \n\n[5 rows x 25 columns]"
                    },
                    "execution_count": 14,
                    "metadata": {},
                    "output_type": "execute_result"
                }
            ],
            "source": "# Read data frame\nmovies.head()"
        },
        {
            "cell_type": "code",
            "execution_count": 16,
            "metadata": {},
            "outputs": [
                {
                    "data": {
                        "text/html": "<div>\n<style scoped>\n    .dataframe tbody tr th:only-of-type {\n        vertical-align: middle;\n    }\n\n    .dataframe tbody tr th {\n        vertical-align: top;\n    }\n\n    .dataframe thead th {\n        text-align: right;\n    }\n</style>\n<table border=\"1\" class=\"dataframe\">\n  <thead>\n    <tr style=\"text-align: right;\">\n      <th></th>\n      <th>Year</th>\n      <th>Genres</th>\n      <th>Language</th>\n      <th>Country</th>\n      <th>Content Rating</th>\n      <th>Duration</th>\n      <th>Aspect Ratio</th>\n      <th>Budget</th>\n      <th>Gross Earnings</th>\n      <th>Director</th>\n      <th>...</th>\n      <th>Facebook Likes - Actor 1</th>\n      <th>Facebook Likes - Actor 2</th>\n      <th>Facebook Likes - Actor 3</th>\n      <th>Facebook Likes - cast Total</th>\n      <th>Facebook likes - Movie</th>\n      <th>Facenumber in posters</th>\n      <th>User Votes</th>\n      <th>Reviews by Users</th>\n      <th>Reviews by Crtiics</th>\n      <th>IMDB Score</th>\n    </tr>\n    <tr>\n      <th>Title</th>\n      <th></th>\n      <th></th>\n      <th></th>\n      <th></th>\n      <th></th>\n      <th></th>\n      <th></th>\n      <th></th>\n      <th></th>\n      <th></th>\n      <th></th>\n      <th></th>\n      <th></th>\n      <th></th>\n      <th></th>\n      <th></th>\n      <th></th>\n      <th></th>\n      <th></th>\n      <th></th>\n      <th></th>\n    </tr>\n  </thead>\n  <tbody>\n    <tr>\n      <th>127 Hours</th>\n      <td>2010.0</td>\n      <td>Adventure|Biography|Drama|Thriller</td>\n      <td>English</td>\n      <td>USA</td>\n      <td>R</td>\n      <td>94.0</td>\n      <td>1.85</td>\n      <td>18000000.0</td>\n      <td>18329466.0</td>\n      <td>Danny Boyle</td>\n      <td>...</td>\n      <td>11000.0</td>\n      <td>642.0</td>\n      <td>223.0</td>\n      <td>11984</td>\n      <td>63000</td>\n      <td>0.0</td>\n      <td>279179</td>\n      <td>440.0</td>\n      <td>450.0</td>\n      <td>7.6</td>\n    </tr>\n    <tr>\n      <th>3 Backyards</th>\n      <td>2010.0</td>\n      <td>Drama</td>\n      <td>English</td>\n      <td>USA</td>\n      <td>R</td>\n      <td>88.0</td>\n      <td>NaN</td>\n      <td>300000.0</td>\n      <td>NaN</td>\n      <td>Eric Mendelsohn</td>\n      <td>...</td>\n      <td>795.0</td>\n      <td>659.0</td>\n      <td>301.0</td>\n      <td>1884</td>\n      <td>92</td>\n      <td>0.0</td>\n      <td>554</td>\n      <td>23.0</td>\n      <td>20.0</td>\n      <td>5.2</td>\n    </tr>\n    <tr>\n      <th>3</th>\n      <td>2010.0</td>\n      <td>Comedy|Drama|Romance</td>\n      <td>German</td>\n      <td>Germany</td>\n      <td>Unrated</td>\n      <td>119.0</td>\n      <td>2.35</td>\n      <td>NaN</td>\n      <td>59774.0</td>\n      <td>Tom Tykwer</td>\n      <td>...</td>\n      <td>24.0</td>\n      <td>20.0</td>\n      <td>9.0</td>\n      <td>69</td>\n      <td>2000</td>\n      <td>0.0</td>\n      <td>4212</td>\n      <td>18.0</td>\n      <td>76.0</td>\n      <td>6.8</td>\n    </tr>\n    <tr>\n      <th>8: The Mormon Proposition</th>\n      <td>2010.0</td>\n      <td>Documentary</td>\n      <td>English</td>\n      <td>USA</td>\n      <td>R</td>\n      <td>80.0</td>\n      <td>1.78</td>\n      <td>2500000.0</td>\n      <td>99851.0</td>\n      <td>Reed Cowan</td>\n      <td>...</td>\n      <td>191.0</td>\n      <td>12.0</td>\n      <td>5.0</td>\n      <td>210</td>\n      <td>0</td>\n      <td>0.0</td>\n      <td>1138</td>\n      <td>30.0</td>\n      <td>28.0</td>\n      <td>7.1</td>\n    </tr>\n    <tr>\n      <th>A Turtle's Tale: Sammy's Adventures</th>\n      <td>2010.0</td>\n      <td>Adventure|Animation|Family</td>\n      <td>English</td>\n      <td>France</td>\n      <td>PG</td>\n      <td>88.0</td>\n      <td>2.35</td>\n      <td>NaN</td>\n      <td>NaN</td>\n      <td>Ben Stassen</td>\n      <td>...</td>\n      <td>783.0</td>\n      <td>749.0</td>\n      <td>602.0</td>\n      <td>3874</td>\n      <td>0</td>\n      <td>2.0</td>\n      <td>5385</td>\n      <td>22.0</td>\n      <td>56.0</td>\n      <td>6.1</td>\n    </tr>\n  </tbody>\n</table>\n<p>5 rows \u00d7 24 columns</p>\n</div>",
                        "text/plain": "                                        Year  \\\nTitle                                          \n127 Hours\u00a0                            2010.0   \n3 Backyards\u00a0                          2010.0   \n3\u00a0                                    2010.0   \n8: The Mormon Proposition\u00a0            2010.0   \nA Turtle's Tale: Sammy's Adventures\u00a0  2010.0   \n\n                                                                  Genres  \\\nTitle                                                                      \n127 Hours\u00a0                            Adventure|Biography|Drama|Thriller   \n3 Backyards\u00a0                                                       Drama   \n3\u00a0                                                  Comedy|Drama|Romance   \n8: The Mormon Proposition\u00a0                                   Documentary   \nA Turtle's Tale: Sammy's Adventures\u00a0          Adventure|Animation|Family   \n\n                                     Language  Country Content Rating  \\\nTitle                                                                   \n127 Hours\u00a0                            English      USA              R   \n3 Backyards\u00a0                          English      USA              R   \n3\u00a0                                     German  Germany        Unrated   \n8: The Mormon Proposition\u00a0            English      USA              R   \nA Turtle's Tale: Sammy's Adventures\u00a0  English   France             PG   \n\n                                      Duration  Aspect Ratio      Budget  \\\nTitle                                                                      \n127 Hours\u00a0                                94.0          1.85  18000000.0   \n3 Backyards\u00a0                              88.0           NaN    300000.0   \n3\u00a0                                       119.0          2.35         NaN   \n8: The Mormon Proposition\u00a0                80.0          1.78   2500000.0   \nA Turtle's Tale: Sammy's Adventures\u00a0      88.0          2.35         NaN   \n\n                                      Gross Earnings         Director  ...  \\\nTitle                                                                  ...   \n127 Hours\u00a0                                18329466.0      Danny Boyle  ...   \n3 Backyards\u00a0                                     NaN  Eric Mendelsohn  ...   \n3\u00a0                                           59774.0       Tom Tykwer  ...   \n8: The Mormon Proposition\u00a0                   99851.0       Reed Cowan  ...   \nA Turtle's Tale: Sammy's Adventures\u00a0             NaN      Ben Stassen  ...   \n\n                                     Facebook Likes - Actor 1  \\\nTitle                                                           \n127 Hours\u00a0                                            11000.0   \n3 Backyards\u00a0                                            795.0   \n3\u00a0                                                       24.0   \n8: The Mormon Proposition\u00a0                              191.0   \nA Turtle's Tale: Sammy's Adventures\u00a0                    783.0   \n\n                                     Facebook Likes - Actor 2  \\\nTitle                                                           \n127 Hours\u00a0                                              642.0   \n3 Backyards\u00a0                                            659.0   \n3\u00a0                                                       20.0   \n8: The Mormon Proposition\u00a0                               12.0   \nA Turtle's Tale: Sammy's Adventures\u00a0                    749.0   \n\n                                     Facebook Likes - Actor 3  \\\nTitle                                                           \n127 Hours\u00a0                                              223.0   \n3 Backyards\u00a0                                            301.0   \n3\u00a0                                                        9.0   \n8: The Mormon Proposition\u00a0                                5.0   \nA Turtle's Tale: Sammy's Adventures\u00a0                    602.0   \n\n                                      Facebook Likes - cast Total  \\\nTitle                                                               \n127 Hours\u00a0                                                  11984   \n3 Backyards\u00a0                                                 1884   \n3\u00a0                                                             69   \n8: The Mormon Proposition\u00a0                                    210   \nA Turtle's Tale: Sammy's Adventures\u00a0                         3874   \n\n                                      Facebook likes - Movie  \\\nTitle                                                          \n127 Hours\u00a0                                             63000   \n3 Backyards\u00a0                                              92   \n3\u00a0                                                      2000   \n8: The Mormon Proposition\u00a0                                 0   \nA Turtle's Tale: Sammy's Adventures\u00a0                       0   \n\n                                      Facenumber in posters  User Votes  \\\nTitle                                                                     \n127 Hours\u00a0                                              0.0      279179   \n3 Backyards\u00a0                                            0.0         554   \n3\u00a0                                                      0.0        4212   \n8: The Mormon Proposition\u00a0                              0.0        1138   \nA Turtle's Tale: Sammy's Adventures\u00a0                    2.0        5385   \n\n                                      Reviews by Users  Reviews by Crtiics  \\\nTitle                                                                        \n127 Hours\u00a0                                       440.0               450.0   \n3 Backyards\u00a0                                      23.0                20.0   \n3\u00a0                                                18.0                76.0   \n8: The Mormon Proposition\u00a0                        30.0                28.0   \nA Turtle's Tale: Sammy's Adventures\u00a0              22.0                56.0   \n\n                                      IMDB Score  \nTitle                                             \n127 Hours\u00a0                                   7.6  \n3 Backyards\u00a0                                 5.2  \n3\u00a0                                           6.8  \n8: The Mormon Proposition\u00a0                   7.1  \nA Turtle's Tale: Sammy's Adventures\u00a0         6.1  \n\n[5 rows x 24 columns]"
                    },
                    "execution_count": 16,
                    "metadata": {},
                    "output_type": "execute_result"
                }
            ],
            "source": "# Read Movie Sheets 1,2 and 3\n\nmovies_sheet1 = pd.read_excel(excel_file, sheet_name=0, index_col=0)\nmovies_sheet1.head()\n\nmovies_sheet2 = pd.read_excel(excel_file, sheet_name=1, index_col=0)\nmovies_sheet2.head()\n\nmovies_sheet3 = pd.read_excel(excel_file, sheet_name=2, index_col=0)\nmovies_sheet3.head()\n"
        },
        {
            "cell_type": "code",
            "execution_count": 17,
            "metadata": {},
            "outputs": [],
            "source": "# Concat all the frames in to one data frame\nmovies = pd.concat([movies_sheet1, movies_sheet2, movies_sheet3])\n"
        },
        {
            "cell_type": "code",
            "execution_count": 18,
            "metadata": {},
            "outputs": [
                {
                    "data": {
                        "text/plain": "(5042, 24)"
                    },
                    "execution_count": 18,
                    "metadata": {},
                    "output_type": "execute_result"
                }
            ],
            "source": "# Check shape of the movie df\nmovies.shape\n"
        },
        {
            "cell_type": "code",
            "execution_count": null,
            "metadata": {},
            "outputs": [],
            "source": ""
        }
    ],
    "metadata": {
        "kernelspec": {
            "display_name": "Python 3.6",
            "language": "python",
            "name": "python3"
        },
        "language_info": {
            "codemirror_mode": {
                "name": "ipython",
                "version": 3
            },
            "file_extension": ".py",
            "mimetype": "text/x-python",
            "name": "python",
            "nbconvert_exporter": "python",
            "pygments_lexer": "ipython3",
            "version": "3.6.9"
        }
    },
    "nbformat": 4,
    "nbformat_minor": 1
}